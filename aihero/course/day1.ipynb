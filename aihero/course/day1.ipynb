{
 "cells": [
  {
   "cell_type": "code",
   "execution_count": 2,
   "id": "21e39bd9-4e11-43df-a49c-35b4fe9452a2",
   "metadata": {},
   "outputs": [],
   "source": [
    "import io\n",
    "import zipfile\n",
    "import requests\n",
    "import frontmatter\n"
   ]
  },
  {
   "cell_type": "code",
   "execution_count": 3,
   "id": "bf12adea-a53b-40ab-b62d-571db936733a",
   "metadata": {},
   "outputs": [],
   "source": [
    "url = 'https://codeload.github.com/DataTalksClub/faq/zip/refs/heads/main'\n",
    "resp = requests.get(url)"
   ]
  },
  {
   "cell_type": "code",
   "execution_count": 4,
   "id": "36ef15ac-ae7b-4b80-bb4b-e3eaf6ea0c60",
   "metadata": {},
   "outputs": [],
   "source": [
    "repository_data =[]\n",
    "\n",
    "# Zipfile object from downloaded content\n",
    "zf = zipfile.ZipFile(io.BytesIO(resp.content))\n",
    "\n",
    "for file_info in zf.infolist():\n",
    "    filename = file_info.filename.lower()\n",
    "    # Get md files only\n",
    "    if not if not (filename.endswith('.md') or filename.endswith('.mdx')):\n",
    "        continue\n",
    "    # Read and parse each file\n",
    "    with zf.open(file_info) as f_in:\n",
    "        content = f_in.read()\n",
    "        post = frontmatter.loads(content)\n",
    "        data = post.to_dict()\n",
    "        data['filename'] = filename\n",
    "        repository_data.append(data)\n",
    "\n",
    "zf.close()"
   ]
  },
  {
   "cell_type": "code",
   "execution_count": 5,
   "id": "91cce614-86d5-429c-883b-eb625b8e1f9c",
   "metadata": {},
   "outputs": [
    {
     "name": "stdout",
     "output_type": "stream",
     "text": [
      "{'id': '9e508f2212', 'question': 'Course: When does the course start?', 'sort_order': 1, 'content': \"The next cohort starts January 13th, 2025. More info at [DTC](https://datatalks.club/blog/guide-to-free-online-courses-at-datatalks-club.html).\\n\\n- Register before the course starts using this [link](https://airtable.com/shr6oVXeQvSI5HuWD).\\n- Join the [course Telegram channel with announcements](https://t.me/dezoomcamp).\\n- Don’t forget to register in DataTalks.Club's Slack and join the channel.\", 'filename': 'faq-main/_questions/data-engineering-zoomcamp/general/001_9e508f2212_course-when-does-the-course-start.md'}\n"
     ]
    }
   ],
   "source": [
    "print(repository_data[1])"
   ]
  },
  {
   "cell_type": "code",
   "execution_count": 1,
   "id": "615cf49e-24b2-4caa-aca6-2beffe0a85fd",
   "metadata": {},
   "outputs": [],
   "source": [
    "from read import read_repo_data"
   ]
  },
  {
   "cell_type": "code",
   "execution_count": null,
   "id": "a37a99ef",
   "metadata": {},
   "outputs": [],
   "source": [
    "prefix = 'https://codeload.github.com'\n",
    "dtc_faq = read_repo_data('DataTalksClub', 'faq', prefix=prefix)\n",
    "evidently_docs = read_repo_data('evidentlyai', 'docs', prefix=prefix)"
   ]
  },
  {
   "cell_type": "code",
   "execution_count": 5,
   "id": "781afe64",
   "metadata": {},
   "outputs": [
    {
     "name": "stdout",
     "output_type": "stream",
     "text": [
      "FAQ documents: 1217\n",
      "Evidently documents: 95\n"
     ]
    }
   ],
   "source": [
    "print(f\"FAQ documents: {len(dtc_faq)}\")\n",
    "print(f\"Evidently documents: {len(evidently_docs)}\")\n"
   ]
  },
  {
   "cell_type": "code",
   "execution_count": 7,
   "id": "bd2c4c20",
   "metadata": {},
   "outputs": [
    {
     "data": {
      "text/plain": [
       "{'title': 'Get Plants',\n",
       " 'openapi': 'GET /plants',\n",
       " 'content': '',\n",
       " 'filename': 'docs-main/api-reference/endpoint/get.mdx'}"
      ]
     },
     "execution_count": 7,
     "metadata": {},
     "output_type": "execute_result"
    }
   ],
   "source": [
    "evidently_docs[2]"
   ]
  },
  {
   "cell_type": "code",
   "execution_count": null,
   "id": "6ee7b02f",
   "metadata": {},
   "outputs": [],
   "source": []
  }
 ],
 "metadata": {
  "kernelspec": {
   "display_name": "course",
   "language": "python",
   "name": "python3"
  },
  "language_info": {
   "codemirror_mode": {
    "name": "ipython",
    "version": 3
   },
   "file_extension": ".py",
   "mimetype": "text/x-python",
   "name": "python",
   "nbconvert_exporter": "python",
   "pygments_lexer": "ipython3",
   "version": "3.10.6"
  }
 },
 "nbformat": 4,
 "nbformat_minor": 5
}
